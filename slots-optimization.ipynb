{
 "cells": [
  {
   "cell_type": "markdown",
   "metadata": {},
   "source": [
    "# Why use __slots__?\n",
    "\n",
    "## Save memory"
   ]
  },
  {
   "cell_type": "code",
   "execution_count": 10,
   "metadata": {},
   "outputs": [],
   "source": [
    "import logging\n",
    "import sys\n",
    "from decimal import Decimal\n",
    "\n",
    "logging.basicConfig(level=logging.INFO)\n",
    "LOG = logging.getLogger(\"default\")\n",
    "\n",
    "class Item:\n",
    "    \"\"\"A class representing an undefined item.\"\"\"\n",
    "    \n",
    "    def __init__(self, name: str, quantity: int, price: Decimal):\n",
    "        self.name = name\n",
    "        self.quantity = quantity\n",
    "        self.price = price\n",
    "\n",
    "class OptimizedItem:\n",
    "    \"\"\"A class using __slots__\"\"\"\n",
    "    __slots__ = (\"name\", \"quantity\", \"price\")\n",
    "    \n",
    "    def __init__(self, name: str, quantity: int, price: Decimal):\n",
    "        self.name = name\n",
    "        self.quantity = quantity\n",
    "        self.price = price"
   ]
  },
  {
   "cell_type": "code",
   "execution_count": 17,
   "metadata": {},
   "outputs": [],
   "source": [
    "regular_item = Item(name=\"Item\", quantity=10, price=Decimal(\"23.50\"))\n",
    "optimized_item = OptimizedItem(name=\"Item\", quantity=10, price=Decimal(\"23.50\"))"
   ]
  },
  {
   "cell_type": "markdown",
   "metadata": {},
   "source": [
    "Let's use `sys.getsizeof()` to see how much memory each instance take"
   ]
  },
  {
   "cell_type": "code",
   "execution_count": 20,
   "metadata": {},
   "outputs": [
    {
     "name": "stderr",
     "output_type": "stream",
     "text": [
      "INFO:default:size of regular_tiem: 48\n"
     ]
    }
   ],
   "source": [
    "LOG.info(\"size of regular_tiem: %d\", sys.getsizeof(regular_item))"
   ]
  },
  {
   "cell_type": "code",
   "execution_count": 21,
   "metadata": {},
   "outputs": [
    {
     "name": "stderr",
     "output_type": "stream",
     "text": [
      "INFO:default:size of optimized_item: 56\n"
     ]
    }
   ],
   "source": [
    "LOG.info(\"size of optimized_item: %d\", sys.getsizeof(optimized_item))"
   ]
  }
 ],
 "metadata": {
  "kernelspec": {
   "display_name": "Python 3",
   "language": "python",
   "name": "python3"
  },
  "language_info": {
   "codemirror_mode": {
    "name": "ipython",
    "version": 3
   },
   "file_extension": ".py",
   "mimetype": "text/x-python",
   "name": "python",
   "nbconvert_exporter": "python",
   "pygments_lexer": "ipython3",
   "version": "3.8.5"
  }
 },
 "nbformat": 4,
 "nbformat_minor": 4
}

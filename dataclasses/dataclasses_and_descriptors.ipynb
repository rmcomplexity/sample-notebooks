{
 "cells": [
  {
   "cell_type": "code",
   "execution_count": 1,
   "metadata": {},
   "outputs": [],
   "source": [
    "import logging\n",
    "from dataclasses import dataclass, asdict\n",
    "from typing import cast, Any\n",
    "\n",
    "logging.basicConfig(level=logging.DEBUG)\n",
    "\n",
    "class SkuValidator:\n",
    "    \"\"\"Validates that a string is an SKU.\n",
    "    \n",
    "    A valid SKU must have a dash in the middle but notat either end.\n",
    "    \"\"\"\n",
    "    \n",
    "    def __set_name__(self, owner: Any, name: str) -> None:\n",
    "        \"\"\"Store private an public name.\n",
    "        \n",
    "        :param Any owner: owner class using this descriptor in one of its fields.\n",
    "        :param str name: Name of attribute in owner instance.\n",
    "        \"\"\"\n",
    "        self.name = f\"_{name}\"\n",
    "        self.public_name = name\n",
    "\n",
    "    def __get__(self, obj: Any, objtype=None) -> str:\n",
    "        \"\"\"Attribute access method.\n",
    "        \n",
    "        :param Any obj: Instance of attribute being accessed.\n",
    "        :param Any objtype: Class of instance being accessed.\n",
    "        :return: Value stored in private attribute.\n",
    "        \"\"\"\n",
    "        return getattr(obj, self.name)\n",
    "    \n",
    "    def __set__(self, obj: Any, value: str) -> None:\n",
    "        \"\"\"Attribute assign method.\n",
    "        \n",
    "        :param Any obj: Instance of attribute being assigned.\n",
    "        :param str value: Value being assigned to attribute.\n",
    "        \"\"\"\n",
    "        validated_data = self.validate(value)\n",
    "        setattr(obj, self.name, validated_data)\n",
    "\n",
    "    def validate(self, value: str) -> str:\n",
    "        \"\"\"Validate SKU format.\"\"\"\n",
    "        if any([\n",
    "            \"-\" not in value,\n",
    "            value.startswith(\"-\"),\n",
    "            value.endswith(\"-\")]):\n",
    "            raise AttributeError(\n",
    "                f\"Field '{self.public_name}' must contain a dash ('-') \"\n",
    "                \"in the middle of the string.\")\n",
    "        return value\n",
    "            \n",
    "\n",
    "class PositiveIntValidator:\n",
    "    \"\"\"Validates an integer is positive.\"\"\"\n",
    "    def __set_name__(self, owner, name):\n",
    "        \"\"\"Store private an public name.\n",
    "        \n",
    "        :param Any owner: owner class using this descriptor in one of its fields.\n",
    "        :param str name: Name of attribute in owner instance.\n",
    "        \"\"\"\n",
    "        self.name = f\"_{name}\"\n",
    "        self.public_name = name\n",
    "\n",
    "    def __get__(self, obj, objtype=None):\n",
    "        \"\"\"Attribute access method.\n",
    "        \n",
    "        :param Any obj: Instance of attribute being accessed.\n",
    "        :param Any objtype: Class of instance being accessed.\n",
    "        :return: Value stored in private attribute.\n",
    "        \"\"\"\n",
    "        return getattr(obj, self.name)\n",
    "    \n",
    "    def __set__(self, obj, value):\n",
    "        \"\"\"Attribute assign method.\n",
    "        \n",
    "        :param Any obj: Instance of attribute being assigned.\n",
    "        :param str value: Value being assigned to attribute.\n",
    "        \"\"\"\n",
    "        validated_data = self.validate(value)\n",
    "        setattr(obj, self.name, validated_data)\n",
    "        \n",
    "    def validate(self, value: int) -> int:\n",
    "        \"\"\"Validate positive int.\"\"\"\n",
    "        if value < 0:\n",
    "            raise AttributeError(f\"{self.public_name} must be positive\")\n",
    "        return value\n",
    "\n",
    "\n",
    "@dataclass\n",
    "class Item:\n",
    "    sku: str = cast(str, SkuValidator())\n",
    "    quantity: int = cast(int, PositiveIntValidator())"
   ]
  },
  {
   "cell_type": "markdown",
   "metadata": {},
   "source": [
    "Initialize an `Item` object with correct values"
   ]
  },
  {
   "cell_type": "code",
   "execution_count": 2,
   "metadata": {},
   "outputs": [
    {
     "name": "stderr",
     "output_type": "stream",
     "text": [
      "INFO:root:item: Item(sku='item-sku', quantity=1)\n"
     ]
    }
   ],
   "source": [
    "item = Item(sku=\"item-sku\", quantity=1)\n",
    "logging.info(\"item: %s\", item)"
   ]
  },
  {
   "cell_type": "markdown",
   "metadata": {},
   "source": [
    "Pass an invalid `sku`"
   ]
  },
  {
   "cell_type": "code",
   "execution_count": 30,
   "metadata": {},
   "outputs": [
    {
     "ename": "AttributeError",
     "evalue": "Field 'sku' must contain a dash ('-') in the middle of the string.",
     "output_type": "error",
     "traceback": [
      "\u001b[0;31m---------------------------------------------------------------------------\u001b[0m",
      "\u001b[0;31mAttributeError\u001b[0m                            Traceback (most recent call last)",
      "\u001b[0;32m<ipython-input-30-a62e146d2c0a>\u001b[0m in \u001b[0;36m<module>\u001b[0;34m\u001b[0m\n\u001b[0;32m----> 1\u001b[0;31m \u001b[0mlogging\u001b[0m\u001b[0;34m.\u001b[0m\u001b[0minfo\u001b[0m\u001b[0;34m(\u001b[0m\u001b[0mvars\u001b[0m\u001b[0;34m(\u001b[0m\u001b[0mItem\u001b[0m\u001b[0;34m)\u001b[0m\u001b[0;34m[\u001b[0m\u001b[0;34m\"sku\"\u001b[0m\u001b[0;34m]\u001b[0m\u001b[0;34m.\u001b[0m\u001b[0mvalidate\u001b[0m\u001b[0;34m(\u001b[0m\u001b[0;34m\"asdf\"\u001b[0m\u001b[0;34m)\u001b[0m\u001b[0;34m)\u001b[0m\u001b[0;34m\u001b[0m\u001b[0;34m\u001b[0m\u001b[0m\n\u001b[0m",
      "\u001b[0;32m<ipython-input-1-3c6e3e9be0a7>\u001b[0m in \u001b[0;36mvalidate\u001b[0;34m(self, value)\u001b[0m\n\u001b[1;32m     44\u001b[0m             \u001b[0mvalue\u001b[0m\u001b[0;34m.\u001b[0m\u001b[0mstartswith\u001b[0m\u001b[0;34m(\u001b[0m\u001b[0;34m\"-\"\u001b[0m\u001b[0;34m)\u001b[0m\u001b[0;34m,\u001b[0m\u001b[0;34m\u001b[0m\u001b[0;34m\u001b[0m\u001b[0m\n\u001b[1;32m     45\u001b[0m             value.endswith(\"-\")]):\n\u001b[0;32m---> 46\u001b[0;31m             raise AttributeError(\n\u001b[0m\u001b[1;32m     47\u001b[0m                 \u001b[0;34mf\"Field '{self.public_name}' must contain a dash ('-') \"\u001b[0m\u001b[0;34m\u001b[0m\u001b[0;34m\u001b[0m\u001b[0m\n\u001b[1;32m     48\u001b[0m                 \"in the middle of the string.\")\n",
      "\u001b[0;31mAttributeError\u001b[0m: Field 'sku' must contain a dash ('-') in the middle of the string."
     ]
    }
   ],
   "source": [
    "logging.info(vars(Item)[\"sku\"].validate(\"asdf\"))"
   ]
  },
  {
   "cell_type": "code",
   "execution_count": 3,
   "metadata": {},
   "outputs": [
    {
     "ename": "AttributeError",
     "evalue": "Field 'sku' must contain a dash ('-') in the middle of the string.",
     "output_type": "error",
     "traceback": [
      "\u001b[0;31m---------------------------------------------------------------------------\u001b[0m",
      "\u001b[0;31mAttributeError\u001b[0m                            Traceback (most recent call last)",
      "\u001b[0;32m<ipython-input-3-c0d49b7bbad5>\u001b[0m in \u001b[0;36m<module>\u001b[0;34m\u001b[0m\n\u001b[0;32m----> 1\u001b[0;31m \u001b[0mItem\u001b[0m\u001b[0;34m(\u001b[0m\u001b[0msku\u001b[0m\u001b[0;34m=\u001b[0m\u001b[0;34m\"sku\"\u001b[0m\u001b[0;34m,\u001b[0m \u001b[0mquantity\u001b[0m\u001b[0;34m=\u001b[0m\u001b[0;36m1\u001b[0m\u001b[0;34m)\u001b[0m\u001b[0;34m\u001b[0m\u001b[0;34m\u001b[0m\u001b[0m\n\u001b[0m",
      "\u001b[0;32m<string>\u001b[0m in \u001b[0;36m__init__\u001b[0;34m(self, sku, quantity)\u001b[0m\n",
      "\u001b[0;32m<ipython-input-1-3c6e3e9be0a7>\u001b[0m in \u001b[0;36m__set__\u001b[0;34m(self, obj, value)\u001b[0m\n\u001b[1;32m     35\u001b[0m         \u001b[0;34m:\u001b[0m\u001b[0mparam\u001b[0m \u001b[0mstr\u001b[0m \u001b[0mvalue\u001b[0m\u001b[0;34m:\u001b[0m \u001b[0mValue\u001b[0m \u001b[0mbeing\u001b[0m \u001b[0massigned\u001b[0m \u001b[0mto\u001b[0m \u001b[0mattribute\u001b[0m\u001b[0;34m.\u001b[0m\u001b[0;34m\u001b[0m\u001b[0;34m\u001b[0m\u001b[0m\n\u001b[1;32m     36\u001b[0m         \"\"\"\n\u001b[0;32m---> 37\u001b[0;31m         \u001b[0mvalidated_data\u001b[0m \u001b[0;34m=\u001b[0m \u001b[0mself\u001b[0m\u001b[0;34m.\u001b[0m\u001b[0mvalidate\u001b[0m\u001b[0;34m(\u001b[0m\u001b[0mvalue\u001b[0m\u001b[0;34m)\u001b[0m\u001b[0;34m\u001b[0m\u001b[0;34m\u001b[0m\u001b[0m\n\u001b[0m\u001b[1;32m     38\u001b[0m         \u001b[0msetattr\u001b[0m\u001b[0;34m(\u001b[0m\u001b[0mobj\u001b[0m\u001b[0;34m,\u001b[0m \u001b[0mself\u001b[0m\u001b[0;34m.\u001b[0m\u001b[0mname\u001b[0m\u001b[0;34m,\u001b[0m \u001b[0mvalidated_data\u001b[0m\u001b[0;34m)\u001b[0m\u001b[0;34m\u001b[0m\u001b[0;34m\u001b[0m\u001b[0m\n\u001b[1;32m     39\u001b[0m \u001b[0;34m\u001b[0m\u001b[0m\n",
      "\u001b[0;32m<ipython-input-1-3c6e3e9be0a7>\u001b[0m in \u001b[0;36mvalidate\u001b[0;34m(self, value)\u001b[0m\n\u001b[1;32m     44\u001b[0m             \u001b[0mvalue\u001b[0m\u001b[0;34m.\u001b[0m\u001b[0mstartswith\u001b[0m\u001b[0;34m(\u001b[0m\u001b[0;34m\"-\"\u001b[0m\u001b[0;34m)\u001b[0m\u001b[0;34m,\u001b[0m\u001b[0;34m\u001b[0m\u001b[0;34m\u001b[0m\u001b[0m\n\u001b[1;32m     45\u001b[0m             value.endswith(\"-\")]):\n\u001b[0;32m---> 46\u001b[0;31m             raise AttributeError(\n\u001b[0m\u001b[1;32m     47\u001b[0m                 \u001b[0;34mf\"Field '{self.public_name}' must contain a dash ('-') \"\u001b[0m\u001b[0;34m\u001b[0m\u001b[0;34m\u001b[0m\u001b[0m\n\u001b[1;32m     48\u001b[0m                 \"in the middle of the string.\")\n",
      "\u001b[0;31mAttributeError\u001b[0m: Field 'sku' must contain a dash ('-') in the middle of the string."
     ]
    }
   ],
   "source": [
    "Item(sku=\"sku\", quantity=1)"
   ]
  },
  {
   "cell_type": "markdown",
   "metadata": {},
   "source": [
    "Pass an invalid `quantity`"
   ]
  },
  {
   "cell_type": "code",
   "execution_count": 4,
   "metadata": {},
   "outputs": [
    {
     "ename": "AttributeError",
     "evalue": "quantity must be positive",
     "output_type": "error",
     "traceback": [
      "\u001b[0;31m---------------------------------------------------------------------------\u001b[0m",
      "\u001b[0;31mAttributeError\u001b[0m                            Traceback (most recent call last)",
      "\u001b[0;32m<ipython-input-4-caac2f178dff>\u001b[0m in \u001b[0;36m<module>\u001b[0;34m\u001b[0m\n\u001b[0;32m----> 1\u001b[0;31m \u001b[0mItem\u001b[0m\u001b[0;34m(\u001b[0m\u001b[0msku\u001b[0m\u001b[0;34m=\u001b[0m\u001b[0;34m\"item-sku\"\u001b[0m\u001b[0;34m,\u001b[0m \u001b[0mquantity\u001b[0m\u001b[0;34m=\u001b[0m\u001b[0;34m-\u001b[0m\u001b[0;36m1\u001b[0m\u001b[0;34m)\u001b[0m\u001b[0;34m\u001b[0m\u001b[0;34m\u001b[0m\u001b[0m\n\u001b[0m",
      "\u001b[0;32m<string>\u001b[0m in \u001b[0;36m__init__\u001b[0;34m(self, sku, quantity)\u001b[0m\n",
      "\u001b[0;32m<ipython-input-1-3c6e3e9be0a7>\u001b[0m in \u001b[0;36m__set__\u001b[0;34m(self, obj, value)\u001b[0m\n\u001b[1;32m     76\u001b[0m         \u001b[0;34m:\u001b[0m\u001b[0mparam\u001b[0m \u001b[0mstr\u001b[0m \u001b[0mvalue\u001b[0m\u001b[0;34m:\u001b[0m \u001b[0mValue\u001b[0m \u001b[0mbeing\u001b[0m \u001b[0massigned\u001b[0m \u001b[0mto\u001b[0m \u001b[0mattribute\u001b[0m\u001b[0;34m.\u001b[0m\u001b[0;34m\u001b[0m\u001b[0;34m\u001b[0m\u001b[0m\n\u001b[1;32m     77\u001b[0m         \"\"\"\n\u001b[0;32m---> 78\u001b[0;31m         \u001b[0mvalidated_data\u001b[0m \u001b[0;34m=\u001b[0m \u001b[0mself\u001b[0m\u001b[0;34m.\u001b[0m\u001b[0mvalidate\u001b[0m\u001b[0;34m(\u001b[0m\u001b[0mvalue\u001b[0m\u001b[0;34m)\u001b[0m\u001b[0;34m\u001b[0m\u001b[0;34m\u001b[0m\u001b[0m\n\u001b[0m\u001b[1;32m     79\u001b[0m         \u001b[0msetattr\u001b[0m\u001b[0;34m(\u001b[0m\u001b[0mobj\u001b[0m\u001b[0;34m,\u001b[0m \u001b[0mself\u001b[0m\u001b[0;34m.\u001b[0m\u001b[0mname\u001b[0m\u001b[0;34m,\u001b[0m \u001b[0mvalidated_data\u001b[0m\u001b[0;34m)\u001b[0m\u001b[0;34m\u001b[0m\u001b[0;34m\u001b[0m\u001b[0m\n\u001b[1;32m     80\u001b[0m \u001b[0;34m\u001b[0m\u001b[0m\n",
      "\u001b[0;32m<ipython-input-1-3c6e3e9be0a7>\u001b[0m in \u001b[0;36mvalidate\u001b[0;34m(self, value)\u001b[0m\n\u001b[1;32m     82\u001b[0m         \u001b[0;34m\"\"\"Validate positive int.\"\"\"\u001b[0m\u001b[0;34m\u001b[0m\u001b[0;34m\u001b[0m\u001b[0m\n\u001b[1;32m     83\u001b[0m         \u001b[0;32mif\u001b[0m \u001b[0mvalue\u001b[0m \u001b[0;34m<\u001b[0m \u001b[0;36m0\u001b[0m\u001b[0;34m:\u001b[0m\u001b[0;34m\u001b[0m\u001b[0;34m\u001b[0m\u001b[0m\n\u001b[0;32m---> 84\u001b[0;31m             \u001b[0;32mraise\u001b[0m \u001b[0mAttributeError\u001b[0m\u001b[0;34m(\u001b[0m\u001b[0;34mf\"{self.public_name} must be positive\"\u001b[0m\u001b[0;34m)\u001b[0m\u001b[0;34m\u001b[0m\u001b[0;34m\u001b[0m\u001b[0m\n\u001b[0m\u001b[1;32m     85\u001b[0m         \u001b[0;32mreturn\u001b[0m \u001b[0mvalue\u001b[0m\u001b[0;34m\u001b[0m\u001b[0;34m\u001b[0m\u001b[0m\n\u001b[1;32m     86\u001b[0m \u001b[0;34m\u001b[0m\u001b[0m\n",
      "\u001b[0;31mAttributeError\u001b[0m: quantity must be positive"
     ]
    }
   ],
   "source": [
    "Item(sku=\"item-sku\", quantity=-1)"
   ]
  },
  {
   "cell_type": "markdown",
   "metadata": {},
   "source": [
    "Now we have a class that validates its inputs and can be easily serialized to a dict."
   ]
  },
  {
   "cell_type": "code",
   "execution_count": 5,
   "metadata": {},
   "outputs": [
    {
     "name": "stderr",
     "output_type": "stream",
     "text": [
      "INFO:root:{'sku': 'item-sku', 'quantity': 2}\n"
     ]
    }
   ],
   "source": [
    "item = Item(sku=\"item-sku\", quantity=2)\n",
    "logging.info(asdict(item))"
   ]
  },
  {
   "cell_type": "code",
   "execution_count": 31,
   "metadata": {},
   "outputs": [],
   "source": [
    "class DataDescriptor:\n",
    "    def __get__(self, obj: Any, objtype=None) -> str:\n",
    "        \"\"\"Attribute access method.\n",
    "        \n",
    "        :param Any obj: Instance of attribute being accessed.\n",
    "        :param Any objtype: Class of instance being accessed.\n",
    "        :return: Value stored in private attribute.\n",
    "        \"\"\"\n",
    "        return getattr(obj, '_data')\n",
    "    \n",
    "    def __set__(self, obj: Any, value: str) -> None:\n",
    "        \"\"\"Attribute assign method.\n",
    "        \n",
    "        :param Any obj: Instance of attribute being assigned.\n",
    "        :param str value: Value being assigned to attribute.\n",
    "        \"\"\"\n",
    "        setattr(obj, '_data', value)\n",
    "\n",
    "class NonDataDescriptor:\n",
    "    def __get__(self, obj: Any, objtype=None) -> str:\n",
    "        \"\"\"Attribute access method.\n",
    "        \n",
    "        :param Any obj: Instance of attribute being accessed.\n",
    "        :param Any objtype: Class of instance being accessed.\n",
    "        :return: Value stored in private attribute.\n",
    "        \"\"\"\n",
    "        return \"An on demand value\"\n",
    "\n",
    "class User:\n",
    "    name: str = DataDescriptor()\n",
    "    email: str = NonDataDescriptor()\n",
    "    \n",
    "    \n",
    "    def __init__(self):\n",
    "        # non-data descriptor is overriden\n",
    "        self.email = \"my@email.com\"\n",
    "        # data descriptor is called\n",
    "        self.name = 'Júan Pérez'"
   ]
  },
  {
   "cell_type": "code",
   "execution_count": 32,
   "metadata": {},
   "outputs": [],
   "source": [
    "user = User()"
   ]
  },
  {
   "cell_type": "code",
   "execution_count": 33,
   "metadata": {},
   "outputs": [
    {
     "data": {
      "text/plain": [
       "'Júan Pérez'"
      ]
     },
     "execution_count": 33,
     "metadata": {},
     "output_type": "execute_result"
    }
   ],
   "source": [
    "user.name"
   ]
  }
 ],
 "metadata": {
  "kernelspec": {
   "display_name": "Python 3",
   "language": "python",
   "name": "python3"
  },
  "language_info": {
   "codemirror_mode": {
    "name": "ipython",
    "version": 3
   },
   "file_extension": ".py",
   "mimetype": "text/x-python",
   "name": "python",
   "nbconvert_exporter": "python",
   "pygments_lexer": "ipython3",
   "version": "3.8.5"
  }
 },
 "nbformat": 4,
 "nbformat_minor": 4
}

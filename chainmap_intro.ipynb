{
 "cells": [
  {
   "cell_type": "code",
   "execution_count": 1,
   "metadata": {},
   "outputs": [],
   "source": [
    "import logging\n",
    "from collections import ChainMap\n",
    "\n",
    "logging.basicConfig(level=logging.INFO)\n",
    "\n",
    "DEFAULT_VALUES = {\n",
    "    \"queue\": \"default_queue\",\n",
    "    \"countdown\": \"3600\", # 60 * 60 minutes\n",
    "}\n",
    "\n",
    "\n",
    "def validate_request_inputs(values: ChainMap) -> None:\n",
    "    # We make sure task_id is computed and not set by the user\n",
    "    if \"user_id\" in values.maps[-1]:\n",
    "        raise ValueError(\"'user_id' cannot be set by user.\")\n",
    "    # task_id can be overwritten by user if needed.\n",
    "    assert values[\"task_id\"].endswith(\"id\")\n",
    "\n",
    "def process_request(**kwargs):\n",
    "    values = ChainMap({}, DEFAULT_VALUES, kwargs);\n",
    "    values[\"user_id\"] = \"computed_user_id\"\n",
    "    values[\"task_id\"] = values.get(\"task_id\", \"computed_task_id\")\n",
    "    \n",
    "    validate_request_inputs(values)\n",
    "    \n",
    "    logging.info(\"processing with values: %s\", dict(values))\n",
    "    #return create_request(values)\n",
    "    \n",
    "    "
   ]
  },
  {
   "cell_type": "markdown",
   "metadata": {},
   "source": [
    "When we set a value in a `ChainMap` the value is set to the first dictionary given to the constructor (line 20). In this example every value will be set to an empty dictionary.\n",
    "\n",
    "But, key lookup is done in reverse other. Here, a key will be first looked up on `kwargs` then on `DEFAULT_VALUES` then on `{}`."
   ]
  },
  {
   "cell_type": "code",
   "execution_count": 2,
   "metadata": {},
   "outputs": [
    {
     "name": "stderr",
     "output_type": "stream",
     "text": [
      "INFO:root:processing with values: {'user': 'username', 'message': 'some message', 'queue': 'default_queue', 'countdown': '3600', 'user_id': 'computed_user_id', 'task_id': 'computed_task_id'}\n"
     ]
    }
   ],
   "source": [
    "process_request(user=\"username\", message=\"some message\")"
   ]
  },
  {
   "cell_type": "markdown",
   "metadata": {},
   "source": [
    "User cannot specify a `user_id`"
   ]
  },
  {
   "cell_type": "code",
   "execution_count": 3,
   "metadata": {},
   "outputs": [
    {
     "ename": "ValueError",
     "evalue": "'user_id' cannot be set by user.",
     "output_type": "error",
     "traceback": [
      "\u001b[0;31m---------------------------------------------------------------------------\u001b[0m",
      "\u001b[0;31mValueError\u001b[0m                                Traceback (most recent call last)",
      "\u001b[0;32m<ipython-input-3-a8dab0b70f52>\u001b[0m in \u001b[0;36m<module>\u001b[0;34m\u001b[0m\n\u001b[0;32m----> 1\u001b[0;31m \u001b[0mprocess_request\u001b[0m\u001b[0;34m(\u001b[0m\u001b[0muser_id\u001b[0m\u001b[0;34m=\u001b[0m\u001b[0;34m\"custom\"\u001b[0m\u001b[0;34m)\u001b[0m\u001b[0;34m\u001b[0m\u001b[0;34m\u001b[0m\u001b[0m\n\u001b[0m",
      "\u001b[0;32m<ipython-input-1-acf87a10d15c>\u001b[0m in \u001b[0;36mprocess_request\u001b[0;34m(**kwargs)\u001b[0m\n\u001b[1;32m     22\u001b[0m     \u001b[0mvalues\u001b[0m\u001b[0;34m[\u001b[0m\u001b[0;34m\"task_id\"\u001b[0m\u001b[0;34m]\u001b[0m \u001b[0;34m=\u001b[0m \u001b[0mvalues\u001b[0m\u001b[0;34m.\u001b[0m\u001b[0mget\u001b[0m\u001b[0;34m(\u001b[0m\u001b[0;34m\"task_id\"\u001b[0m\u001b[0;34m,\u001b[0m \u001b[0;34m\"computed_task_id\"\u001b[0m\u001b[0;34m)\u001b[0m\u001b[0;34m\u001b[0m\u001b[0;34m\u001b[0m\u001b[0m\n\u001b[1;32m     23\u001b[0m \u001b[0;34m\u001b[0m\u001b[0m\n\u001b[0;32m---> 24\u001b[0;31m     \u001b[0mvalidate_request_inputs\u001b[0m\u001b[0;34m(\u001b[0m\u001b[0mvalues\u001b[0m\u001b[0;34m)\u001b[0m\u001b[0;34m\u001b[0m\u001b[0;34m\u001b[0m\u001b[0m\n\u001b[0m\u001b[1;32m     25\u001b[0m \u001b[0;34m\u001b[0m\u001b[0m\n\u001b[1;32m     26\u001b[0m     \u001b[0mlogging\u001b[0m\u001b[0;34m.\u001b[0m\u001b[0minfo\u001b[0m\u001b[0;34m(\u001b[0m\u001b[0;34m\"processing with values: %s\"\u001b[0m\u001b[0;34m,\u001b[0m \u001b[0mdict\u001b[0m\u001b[0;34m(\u001b[0m\u001b[0mvalues\u001b[0m\u001b[0;34m)\u001b[0m\u001b[0;34m)\u001b[0m\u001b[0;34m\u001b[0m\u001b[0;34m\u001b[0m\u001b[0m\n",
      "\u001b[0;32m<ipython-input-1-acf87a10d15c>\u001b[0m in \u001b[0;36mvalidate_request_inputs\u001b[0;34m(values)\u001b[0m\n\u001b[1;32m     13\u001b[0m     \u001b[0;31m# We make sure task_id is computed and not set by the user\u001b[0m\u001b[0;34m\u001b[0m\u001b[0;34m\u001b[0m\u001b[0;34m\u001b[0m\u001b[0m\n\u001b[1;32m     14\u001b[0m     \u001b[0;32mif\u001b[0m \u001b[0;34m\"user_id\"\u001b[0m \u001b[0;32min\u001b[0m \u001b[0mvalues\u001b[0m\u001b[0;34m.\u001b[0m\u001b[0mmaps\u001b[0m\u001b[0;34m[\u001b[0m\u001b[0;34m-\u001b[0m\u001b[0;36m1\u001b[0m\u001b[0;34m]\u001b[0m\u001b[0;34m:\u001b[0m\u001b[0;34m\u001b[0m\u001b[0;34m\u001b[0m\u001b[0m\n\u001b[0;32m---> 15\u001b[0;31m         \u001b[0;32mraise\u001b[0m \u001b[0mValueError\u001b[0m\u001b[0;34m(\u001b[0m\u001b[0;34m\"'user_id' cannot be set by user.\"\u001b[0m\u001b[0;34m)\u001b[0m\u001b[0;34m\u001b[0m\u001b[0;34m\u001b[0m\u001b[0m\n\u001b[0m\u001b[1;32m     16\u001b[0m     \u001b[0;31m# task_id can be overwritten by user if needed.\u001b[0m\u001b[0;34m\u001b[0m\u001b[0;34m\u001b[0m\u001b[0;34m\u001b[0m\u001b[0m\n\u001b[1;32m     17\u001b[0m     \u001b[0;32massert\u001b[0m \u001b[0mvalues\u001b[0m\u001b[0;34m[\u001b[0m\u001b[0;34m\"task_id\"\u001b[0m\u001b[0;34m]\u001b[0m\u001b[0;34m.\u001b[0m\u001b[0mendswith\u001b[0m\u001b[0;34m(\u001b[0m\u001b[0;34m\"id\"\u001b[0m\u001b[0;34m)\u001b[0m\u001b[0;34m\u001b[0m\u001b[0;34m\u001b[0m\u001b[0m\n",
      "\u001b[0;31mValueError\u001b[0m: 'user_id' cannot be set by user."
     ]
    }
   ],
   "source": [
    "process_request(user_id=\"custom\")"
   ]
  },
  {
   "cell_type": "markdown",
   "metadata": {},
   "source": [
    "But, user can specify a `task_id`"
   ]
  },
  {
   "cell_type": "code",
   "execution_count": 4,
   "metadata": {},
   "outputs": [
    {
     "name": "stderr",
     "output_type": "stream",
     "text": [
      "INFO:root:processing with values: {'task_id': 'my_task_id', 'queue': 'default_queue', 'countdown': '3600', 'user_id': 'computed_user_id'}\n"
     ]
    }
   ],
   "source": [
    "process_request(task_id=\"my_task_id\")"
   ]
  }
 ],
 "metadata": {
  "kernelspec": {
   "display_name": "Python 3",
   "language": "python",
   "name": "python3"
  },
  "language_info": {
   "codemirror_mode": {
    "name": "ipython",
    "version": 3
   },
   "file_extension": ".py",
   "mimetype": "text/x-python",
   "name": "python",
   "nbconvert_exporter": "python",
   "pygments_lexer": "ipython3",
   "version": "3.8.5"
  }
 },
 "nbformat": 4,
 "nbformat_minor": 4
}

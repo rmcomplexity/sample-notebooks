{
 "cells": [
  {
   "cell_type": "code",
   "execution_count": 9,
   "metadata": {},
   "outputs": [],
   "source": [
    "import logging\n",
    "from dataclasses import dataclass\n",
    "from uuid import UUID, uuid4\n",
    "\n",
    "logging.basicConfig(level=logging.INFO)\n",
    "\n",
    "@dataclass\n",
    "class User:\n",
    "    \"\"\"A sample User class.\"\"\"\n",
    "    name: str\n",
    "    email: str\n",
    "    id: UUID = uuid4()\n",
    "\n",
    "    def set_status(self, status: str):\n",
    "        \"\"\"Sample method in a class.\"\"\"\n",
    "        logging.info(\"Setting user:%s status to: %s\", self, status)"
   ]
  },
  {
   "cell_type": "markdown",
   "metadata": {},
   "source": [
    "A method in a class is a function"
   ]
  },
  {
   "cell_type": "code",
   "execution_count": 10,
   "metadata": {},
   "outputs": [
    {
     "name": "stderr",
     "output_type": "stream",
     "text": [
      "INFO:root:method: <function User.set_status at 0x7fda1ce50430>\n"
     ]
    }
   ],
   "source": [
    "logging.info(\"method: %s\", User.set_status)"
   ]
  },
  {
   "cell_type": "markdown",
   "metadata": {},
   "source": [
    "A method in an instance is a **bound method**"
   ]
  },
  {
   "cell_type": "code",
   "execution_count": 11,
   "metadata": {},
   "outputs": [
    {
     "name": "stderr",
     "output_type": "stream",
     "text": [
      "INFO:root:bound method: <bound method User.set_status of User(name='José Pérez', email='jperez@email.io', id=UUID('598e7ef2-cb21-4ea9-9506-42905dac9ff0'))>\n"
     ]
    }
   ],
   "source": [
    "user = User(name=\"José Pérez\", email=\"jperez@email.io\")\n",
    "logging.info(\"bound method: %s\", user.set_status)"
   ]
  },
  {
   "cell_type": "markdown",
   "metadata": {},
   "source": [
    "A method in a class is a descriptor which returns the same method but with the class instance **bound** to it.\n",
    "We can verify this by manually running `__get__` in the descriptor and passing an object to be bound to the method."
   ]
  },
  {
   "cell_type": "code",
   "execution_count": 12,
   "metadata": {},
   "outputs": [
    {
     "name": "stderr",
     "output_type": "stream",
     "text": [
      "INFO:root:bound method: <bound method User.set_status of User(name='José Pérez', email='jperez@email.io', id=UUID('598e7ef2-cb21-4ea9-9506-42905dac9ff0'))>\n"
     ]
    }
   ],
   "source": [
    "bound_method = User.set_status.__get__(user)\n",
    "logging.info(\"bound method: %s\", bound_method)"
   ]
  },
  {
   "cell_type": "markdown",
   "metadata": {},
   "source": [
    "We can see that `user.set_status` is the same as `User.set_status.__get__(user)`\n",
    "\n",
    "And, we can double check this by running the same method using an instance or the descriptor in the class definition."
   ]
  },
  {
   "cell_type": "code",
   "execution_count": 14,
   "metadata": {},
   "outputs": [
    {
     "name": "stderr",
     "output_type": "stream",
     "text": [
      "INFO:root:Setting user:User(name='José Pérez', email='jperez@email.io', id=UUID('598e7ef2-cb21-4ea9-9506-42905dac9ff0')) status to: away\n",
      "INFO:root:Setting user:User(name='José Pérez', email='jperez@email.io', id=UUID('598e7ef2-cb21-4ea9-9506-42905dac9ff0')) status to: away\n"
     ]
    }
   ],
   "source": [
    "user.set_status(status=\"away\")\n",
    "User.set_status.__get__(user)(\"away\")"
   ]
  },
  {
   "cell_type": "markdown",
   "metadata": {},
   "source": [
    "This is where the use of `self` comes.\n",
    "When a method is called we are calling a descriptor which binds the current instance object to the function (method) defined.\n",
    "\n",
    "Binding the current instance to a method means passing the object as the first argument.\n",
    "\n",
    "In fact, you can use whatever name as argument, `self` is a standard."
   ]
  },
  {
   "cell_type": "code",
   "execution_count": null,
   "metadata": {},
   "outputs": [],
   "source": []
  }
 ],
 "metadata": {
  "kernelspec": {
   "display_name": "Python 3",
   "language": "python",
   "name": "python3"
  },
  "language_info": {
   "codemirror_mode": {
    "name": "ipython",
    "version": 3
   },
   "file_extension": ".py",
   "mimetype": "text/x-python",
   "name": "python",
   "nbconvert_exporter": "python",
   "pygments_lexer": "ipython3",
   "version": "3.8.5"
  }
 },
 "nbformat": 4,
 "nbformat_minor": 4
}
